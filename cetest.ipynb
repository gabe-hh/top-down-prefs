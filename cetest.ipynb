{
 "cells": [
  {
   "cell_type": "code",
   "execution_count": 1,
   "metadata": {},
   "outputs": [],
   "source": [
    "import torch\n",
    "import torch.nn as nn\n",
    "import torch.nn.functional as F\n",
    "import torch.distributions as D"
   ]
  },
  {
   "cell_type": "code",
   "execution_count": 1,
   "metadata": {},
   "outputs": [
    {
     "name": "stdout",
     "output_type": "stream",
     "text": [
      "t=0, step: 0\n",
      "t=1, step: 1\n",
      "t=2, step: 2\n",
      "t=3, step: 3\n",
      "t=4, step: 4\n",
      "t=5, step: 0\n",
      "t=6, step: 1\n",
      "t=7, step: 2\n",
      "t=8, step: 3\n",
      "t=9, step: 4\n"
     ]
    }
   ],
   "source": [
    "steps = 5\n",
    "\n",
    "for t in range(10):\n",
    "    print(f\"t={t}, step: {t % steps}\")"
   ]
  }
 ],
 "metadata": {
  "kernelspec": {
   "display_name": ".venv",
   "language": "python",
   "name": "python3"
  },
  "language_info": {
   "codemirror_mode": {
    "name": "ipython",
    "version": 3
   },
   "file_extension": ".py",
   "mimetype": "text/x-python",
   "name": "python",
   "nbconvert_exporter": "python",
   "pygments_lexer": "ipython3",
   "version": "3.8.10"
  }
 },
 "nbformat": 4,
 "nbformat_minor": 2
}
